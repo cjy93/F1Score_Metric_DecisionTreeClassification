{
 "cells": [
  {
   "cell_type": "code",
   "execution_count": 7,
   "metadata": {},
   "outputs": [
    {
     "name": "stdout",
     "output_type": "stream",
     "text": [
      "(517401, 2)\n"
     ]
    }
   ],
   "source": [
    "# using enron email dataset\n",
    "import pandas as pd\n",
    "dfemail = pd.read_csv(\"emails.csv\")\n",
    "print(dfemail.shape)"
   ]
  },
  {
   "cell_type": "code",
   "execution_count": 24,
   "metadata": {},
   "outputs": [],
   "source": [
    "# take a subset for the purpose of this project train set\n",
    "dftrain = dfemail.iloc[1:1001,:]\n",
    "dftrain.to_csv(\"email_subset.csv\", index= False)"
   ]
  },
  {
   "cell_type": "code",
   "execution_count": 25,
   "metadata": {},
   "outputs": [
    {
     "data": {
      "text/plain": [
       "(1000, 2)"
      ]
     },
     "execution_count": 25,
     "metadata": {},
     "output_type": "execute_result"
    }
   ],
   "source": [
    "# shape of the dfemailSub\n",
    "dftrain.shape"
   ]
  },
  {
   "cell_type": "code",
   "execution_count": 20,
   "metadata": {},
   "outputs": [],
   "source": [
    "# test set (actually i dont have test set so i take another subset from the email dataset)\n",
    "dftest = dfemail.iloc[2000:2201,:]"
   ]
  },
  {
   "cell_type": "code",
   "execution_count": 37,
   "metadata": {},
   "outputs": [],
   "source": [
    "import random\n",
    "def createData(df):\n",
    "    Area = []\n",
    "    for row in range(0,len(df)):\n",
    "    # create a column called 'Area'\n",
    "        a = [\"Trade\", \"Cash\", \"CAS\"]\n",
    "        b = random.choice(a)\n",
    "        Area.append(b) \n",
    "    # rename column 'message' to 'SR Details'\n",
    "    df = df.rename(index=str, columns={\"message\": \"SR Details\"})\n",
    "    df = df.assign(Area = Area)\n",
    "    return(df)"
   ]
  },
  {
   "cell_type": "code",
   "execution_count": 38,
   "metadata": {},
   "outputs": [],
   "source": [
    "# final usable train dataset\n",
    "dfTrain = createData(dftrain)\n",
    "# final usable test dataset\n",
    "dfTest = createData(dftest)"
   ]
  },
  {
   "cell_type": "code",
   "execution_count": 40,
   "metadata": {},
   "outputs": [
    {
     "data": {
      "text/html": [
       "<div>\n",
       "<style scoped>\n",
       "    .dataframe tbody tr th:only-of-type {\n",
       "        vertical-align: middle;\n",
       "    }\n",
       "\n",
       "    .dataframe tbody tr th {\n",
       "        vertical-align: top;\n",
       "    }\n",
       "\n",
       "    .dataframe thead th {\n",
       "        text-align: right;\n",
       "    }\n",
       "</style>\n",
       "<table border=\"1\" class=\"dataframe\">\n",
       "  <thead>\n",
       "    <tr style=\"text-align: right;\">\n",
       "      <th></th>\n",
       "      <th>file</th>\n",
       "      <th>SR Details</th>\n",
       "      <th>Area</th>\n",
       "    </tr>\n",
       "  </thead>\n",
       "  <tbody>\n",
       "    <tr>\n",
       "      <th>2000</th>\n",
       "      <td>allen-p/discussion_threads/95.</td>\n",
       "      <td>Message-ID: &lt;3555083.1075855675348.JavaMail.ev...</td>\n",
       "      <td>Cash</td>\n",
       "    </tr>\n",
       "    <tr>\n",
       "      <th>2001</th>\n",
       "      <td>allen-p/discussion_threads/96.</td>\n",
       "      <td>Message-ID: &lt;23397876.1075855675370.JavaMail.e...</td>\n",
       "      <td>CAS</td>\n",
       "    </tr>\n",
       "    <tr>\n",
       "      <th>2002</th>\n",
       "      <td>allen-p/discussion_threads/97.</td>\n",
       "      <td>Message-ID: &lt;23724536.1075855675391.JavaMail.e...</td>\n",
       "      <td>CAS</td>\n",
       "    </tr>\n",
       "    <tr>\n",
       "      <th>2003</th>\n",
       "      <td>allen-p/discussion_threads/98.</td>\n",
       "      <td>Message-ID: &lt;10973099.1075855675412.JavaMail.e...</td>\n",
       "      <td>Cash</td>\n",
       "    </tr>\n",
       "    <tr>\n",
       "      <th>2004</th>\n",
       "      <td>allen-p/discussion_threads/99.</td>\n",
       "      <td>Message-ID: &lt;9718282.1075855675434.JavaMail.ev...</td>\n",
       "      <td>Cash</td>\n",
       "    </tr>\n",
       "  </tbody>\n",
       "</table>\n",
       "</div>"
      ],
      "text/plain": [
       "                                file  \\\n",
       "2000  allen-p/discussion_threads/95.   \n",
       "2001  allen-p/discussion_threads/96.   \n",
       "2002  allen-p/discussion_threads/97.   \n",
       "2003  allen-p/discussion_threads/98.   \n",
       "2004  allen-p/discussion_threads/99.   \n",
       "\n",
       "                                             SR Details  Area  \n",
       "2000  Message-ID: <3555083.1075855675348.JavaMail.ev...  Cash  \n",
       "2001  Message-ID: <23397876.1075855675370.JavaMail.e...   CAS  \n",
       "2002  Message-ID: <23724536.1075855675391.JavaMail.e...   CAS  \n",
       "2003  Message-ID: <10973099.1075855675412.JavaMail.e...  Cash  \n",
       "2004  Message-ID: <9718282.1075855675434.JavaMail.ev...  Cash  "
      ]
     },
     "execution_count": 40,
     "metadata": {},
     "output_type": "execute_result"
    }
   ],
   "source": [
    "dfTest.head()"
   ]
  },
  {
   "cell_type": "code",
   "execution_count": 41,
   "metadata": {},
   "outputs": [],
   "source": [
    "# export dfTrain and dfTest to csv and \"F1Score_DecisionTreeClassification\" will import the 2 files\n",
    "dfTrain.to_csv(\"dfTrain.csv\")\n",
    "dfTest.to_csv(\"dfTest.csv\")"
   ]
  },
  {
   "cell_type": "code",
   "execution_count": null,
   "metadata": {},
   "outputs": [],
   "source": []
  }
 ],
 "metadata": {
  "kernelspec": {
   "display_name": "Python 3",
   "language": "python",
   "name": "python3"
  },
  "language_info": {
   "codemirror_mode": {
    "name": "ipython",
    "version": 3
   },
   "file_extension": ".py",
   "mimetype": "text/x-python",
   "name": "python",
   "nbconvert_exporter": "python",
   "pygments_lexer": "ipython3",
   "version": "3.7.1"
  }
 },
 "nbformat": 4,
 "nbformat_minor": 2
}
